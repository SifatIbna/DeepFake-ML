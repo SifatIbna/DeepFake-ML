{
 "cells": [
  {
   "cell_type": "code",
   "execution_count": 1,
   "metadata": {},
   "outputs": [],
   "source": [
    "import cv2\n",
    "import numpy as np\n",
    "import dlib"
   ]
  },
  {
   "cell_type": "markdown",
   "metadata": {},
   "source": [
    "*Initialize dlib library face detector* \\\n",
    "*Create dlib library facial landmark predictor*"
   ]
  },
  {
   "cell_type": "code",
   "execution_count": 2,
   "metadata": {},
   "outputs": [],
   "source": [
    "frontal_face_detector = dlib.get_frontal_face_detector()"
   ]
  },
  {
   "cell_type": "code",
   "execution_count": 3,
   "metadata": {},
   "outputs": [],
   "source": [
    "frontal_face_predictor = dlib.shape_predictor(\"data/shape_predictor_68_face_landmarks.dat\")"
   ]
  },
  {
   "cell_type": "markdown",
   "metadata": {},
   "source": [
    "**Read the source face image and convert it in grayscale**"
   ]
  },
  {
   "cell_type": "code",
   "execution_count": 4,
   "metadata": {},
   "outputs": [],
   "source": [
    "source_image = cv2.imread(\"images/jason.jpg\")\n",
    "source_image_copy = source_image\n",
    "source_image_gray = cv2.cvtColor(source_image,cv2.COLOR_BGR2GRAY)\n",
    "cv2.imshow(\"source_image\",source_image_gray)\n",
    "cv2.waitKey(0)\n",
    "cv2.destroyAllWindows()"
   ]
  },
  {
   "cell_type": "markdown",
   "metadata": {},
   "source": [
    "**Read the destination face image and convert it in grayscale**"
   ]
  },
  {
   "cell_type": "code",
   "execution_count": 5,
   "metadata": {},
   "outputs": [],
   "source": [
    "destination_image = cv2.imread(\"images/brucewills.jpg\")\n",
    "destination_image_copy = destination_image\n",
    "destination_image_gray = cv2.cvtColor(destination_image,cv2.COLOR_BGR2GRAY)\n",
    "cv2.imshow(\"source_image\",destination_image_gray)\n",
    "cv2.waitKey(0)\n",
    "cv2.destroyAllWindows()"
   ]
  },
  {
   "cell_type": "markdown",
   "metadata": {},
   "source": [
    "*Creating a Canvas exactly like zeros*"
   ]
  },
  {
   "cell_type": "code",
   "execution_count": 6,
   "metadata": {},
   "outputs": [],
   "source": [
    "source_image_canvas = np.zeros_like(source_image_gray)"
   ]
  },
  {
   "cell_type": "code",
   "execution_count": 7,
   "metadata": {},
   "outputs": [],
   "source": [
    "height,width,no_channels = destination_image.shape\n",
    "destination_image_canvas = np.zeros((height,width,no_channels),np.uint8)"
   ]
  },
  {
   "cell_type": "markdown",
   "metadata": {},
   "source": [
    "*Find The Faces in Source Image* \\\n",
    "*Returns a numpy array containing a histogram of pizxels in the image*"
   ]
  },
  {
   "cell_type": "code",
   "execution_count": 8,
   "metadata": {},
   "outputs": [],
   "source": [
    "source_faces = frontal_face_detector(source_image_gray)"
   ]
  },
  {
   "cell_type": "code",
   "execution_count": 11,
   "metadata": {},
   "outputs": [],
   "source": [
    "for source_face in source_faces:\n",
    "    \n",
    "    source_face_landmarks = frontal_face_predictor(source_image_gray, source_face)\n",
    "    source_face_landmark_points = []\n",
    "    \n",
    "    for landmark_no in range(0,68):\n",
    "        x_point = source_face_landmarks.part(landmark_no).x\n",
    "#         print(x_point)\n",
    "        y_point = source_face_landmarks.part(landmark_no).y\n",
    "        \n",
    "        source_face_landmark_points.append((x_point,y_point))\n",
    "        \n",
    "#     cv2.circle(source_image,(x_point,y_point),2,(255,0,0),-1)\n",
    "#     cv2.imshow(\"1:landmark image\",source_image_copy)\n",
    "#     cv2.waitKey(0)\n",
    "#     cv2.destroyAllWindows()\n",
    "#     print(source_face_landmark_points)\n",
    "    \n",
    "    source_face_landmark_points_arr = np.array(source_face_landmark_points,np.int32)\n",
    "    source_face_convexHull = cv2.convexHull(source_face_landmark_points_arr)\n",
    "    \n",
    "    cv2.polylines(source_image,[source_face_convexHull],True,(255,0,0),3)\n",
    "    cv2.imshow(\"2 convex hull source image\",source_image)\n",
    "    cv2.waitKey(0)"
   ]
  },
  {
   "cell_type": "code",
   "execution_count": null,
   "metadata": {},
   "outputs": [],
   "source": []
  }
 ],
 "metadata": {
  "interpreter": {
   "hash": "cb114825b38ec1e30da58c978f743451b40a539bce3359a4899205d5ca56beca"
  },
  "kernelspec": {
   "display_name": "Python 3 (ipykernel)",
   "language": "python",
   "name": "python3"
  },
  "language_info": {
   "codemirror_mode": {
    "name": "ipython",
    "version": 3
   },
   "file_extension": ".py",
   "mimetype": "text/x-python",
   "name": "python",
   "nbconvert_exporter": "python",
   "pygments_lexer": "ipython3",
   "version": "3.7.6"
  }
 },
 "nbformat": 4,
 "nbformat_minor": 4
}
